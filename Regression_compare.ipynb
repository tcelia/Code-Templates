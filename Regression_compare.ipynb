{
  "nbformat": 4,
  "nbformat_minor": 0,
  "metadata": {
    "colab": {
      "name": "Regression compare.ipynb",
      "provenance": [],
      "collapsed_sections": [],
      "toc_visible": true,
      "authorship_tag": "ABX9TyNvJDy2oN2EifZe4R5EoXc2",
      "include_colab_link": true
    },
    "kernelspec": {
      "name": "python3",
      "display_name": "Python 3"
    },
    "language_info": {
      "name": "python"
    }
  },
  "cells": [
    {
      "cell_type": "markdown",
      "metadata": {
        "id": "view-in-github",
        "colab_type": "text"
      },
      "source": [
        "<a href=\"https://colab.research.google.com/github/tcelia/Code-Templates/blob/main/Regression_compare.ipynb\" target=\"_parent\"><img src=\"https://colab.research.google.com/assets/colab-badge.svg\" alt=\"Open In Colab\"/></a>"
      ]
    },
    {
      "cell_type": "markdown",
      "metadata": {
        "id": "3OfTPB0yZceh"
      },
      "source": [
        "## Importing the Libraries"
      ]
    },
    {
      "cell_type": "code",
      "metadata": {
        "id": "KiflDG-GZWnp"
      },
      "source": [
        "import numpy as np\n",
        "import matplotlib.pyplot as plt\n",
        "import pandas as pd\n",
        "from sklearn.model_selection import train_test_split\n",
        "from sklearn.preprocessing import StandardScaler\n",
        "from sklearn.linear_model import LinearRegression\n",
        "from sklearn.preprocessing import PolynomialFeatures\n",
        "from sklearn.svm import SVR\n",
        "from sklearn.tree import DecisionTreeRegressor\n",
        "from sklearn.ensemble import RandomForestRegressor\n",
        "from sklearn.metrics import r2_score"
      ],
      "execution_count": null,
      "outputs": []
    },
    {
      "cell_type": "markdown",
      "metadata": {
        "id": "w9uVzhFnZ2ZU"
      },
      "source": [
        "# Import the Data Set"
      ]
    },
    {
      "cell_type": "code",
      "metadata": {
        "id": "bcDzd-c9Z7fa"
      },
      "source": [
        "#assumes no categorical or missing data. Last column is dependent variable\n",
        "#enter the number of degrees for the polynomial regressor \n",
        "Polydegree= 4\n",
        "#enter the number of estimators for the random forest regression\n",
        "RFestimators = 10\n",
        "#enter the kernel for SVR\n",
        "SVRkernel='rbf'\n",
        "dataset = pd.read_csv('Data.csv')\n",
        "X = dataset.iloc[:, :-1].values\n",
        "y = dataset.iloc[:, -1].values\n",
        "y = y.reshape(len(y),1)"
      ],
      "execution_count": null,
      "outputs": []
    },
    {
      "cell_type": "markdown",
      "metadata": {
        "id": "l4dRMUNwaAXF"
      },
      "source": [
        "# Split the Data in Testing and Training Set"
      ]
    },
    {
      "cell_type": "code",
      "metadata": {
        "id": "aK-fL5EXaAv7"
      },
      "source": [
        "X_train, X_test, y_train, y_test = train_test_split(X, y, test_size = 0.2, random_state = 0)\n"
      ],
      "execution_count": null,
      "outputs": []
    },
    {
      "cell_type": "markdown",
      "metadata": {
        "id": "alzPhk6QdGZ4"
      },
      "source": [
        "# Feature Scaling"
      ]
    },
    {
      "cell_type": "code",
      "metadata": {
        "id": "ecLXd0LVdGJf"
      },
      "source": [
        "sc_X = StandardScaler()\n",
        "sc_y = StandardScaler()\n",
        "ScaleX_train = sc_X.fit_transform(X_train)\n",
        "Scaley_train = sc_y.fit_transform(y_train)"
      ],
      "execution_count": null,
      "outputs": []
    },
    {
      "cell_type": "markdown",
      "metadata": {
        "id": "zzHWT5H7aNPI"
      },
      "source": [
        "# Training the models"
      ]
    },
    {
      "cell_type": "code",
      "metadata": {
        "colab": {
          "base_uri": "https://localhost:8080/"
        },
        "id": "Ssd78i0HaNm5",
        "outputId": "c5ff37df-8fdc-422b-b0d5-726c8ff196f1"
      },
      "source": [
        "#Multiple Linear\n",
        "MLregressor = LinearRegression()\n",
        "MLregressor.fit(X_train, y_train)\n",
        "\n",
        "#Polynomial\n",
        "poly_reg = PolynomialFeatures(degree = Polydegree)\n",
        "X_poly = poly_reg.fit_transform(X_train)\n",
        "Polyregressor = LinearRegression()\n",
        "Polyregressor.fit(X_poly, y_train)\n",
        "\n",
        "#SVR\n",
        "SVRregressor = SVR(kernel = SVRkernel)\n",
        "SVRregressor.fit(ScaleX_train, Scaley_train)\n",
        "\n",
        "#Decision Tree\n",
        "DTregressor = DecisionTreeRegressor(random_state = 0)\n",
        "DTregressor.fit(X_train, y_train)\n",
        "\n",
        "#Random Forest\n",
        "RFregressor = RandomForestRegressor(n_estimators = RFestimators, random_state = 0)\n",
        "RFregressor.fit(X_train, y_train)"
      ],
      "execution_count": null,
      "outputs": [
        {
          "output_type": "stream",
          "text": [
            "/usr/local/lib/python3.7/dist-packages/sklearn/utils/validation.py:760: DataConversionWarning: A column-vector y was passed when a 1d array was expected. Please change the shape of y to (n_samples, ), for example using ravel().\n",
            "  y = column_or_1d(y, warn=True)\n",
            "/usr/local/lib/python3.7/dist-packages/ipykernel_launcher.py:21: DataConversionWarning: A column-vector y was passed when a 1d array was expected. Please change the shape of y to (n_samples,), for example using ravel().\n"
          ],
          "name": "stderr"
        },
        {
          "output_type": "execute_result",
          "data": {
            "text/plain": [
              "RandomForestRegressor(bootstrap=True, ccp_alpha=0.0, criterion='mse',\n",
              "                      max_depth=None, max_features='auto', max_leaf_nodes=None,\n",
              "                      max_samples=None, min_impurity_decrease=0.0,\n",
              "                      min_impurity_split=None, min_samples_leaf=1,\n",
              "                      min_samples_split=2, min_weight_fraction_leaf=0.0,\n",
              "                      n_estimators=10, n_jobs=None, oob_score=False,\n",
              "                      random_state=0, verbose=0, warm_start=False)"
            ]
          },
          "metadata": {
            "tags": []
          },
          "execution_count": 5
        }
      ]
    },
    {
      "cell_type": "markdown",
      "metadata": {
        "id": "KbiIHxodajbA"
      },
      "source": [
        "# Predicting the Results"
      ]
    },
    {
      "cell_type": "code",
      "metadata": {
        "id": "PdjxEZVzajri"
      },
      "source": [
        "MLy_pred = MLregressor.predict(X_test)\n",
        "Polyy_pred = Polyregressor.predict(poly_reg.transform(X_test))\n",
        "SVRy_pred = sc_y.inverse_transform(SVRregressor.predict(sc_X.transform(X_test)))\n",
        "DTy_pred = DTregressor.predict(X_test)\n",
        "RFy_pred = RFregressor.predict(X_test)"
      ],
      "execution_count": null,
      "outputs": []
    },
    {
      "cell_type": "markdown",
      "metadata": {
        "id": "6rEAC3q-a6G4"
      },
      "source": [
        "# Comparing R squared"
      ]
    },
    {
      "cell_type": "code",
      "metadata": {
        "id": "YwMokCyya6dI"
      },
      "source": [
        "MLr2 = r2_score(y_test, MLy_pred)\n",
        "Polyr2 = r2_score(y_test, Polyy_pred)\n",
        "SVRr2 = r2_score(y_test, SVRy_pred)\n",
        "DTr2 =r2_score(y_test, DTy_pred)\n",
        "RFr2=r2_score(y_test, RFy_pred)\n"
      ],
      "execution_count": null,
      "outputs": []
    },
    {
      "cell_type": "code",
      "metadata": {
        "colab": {
          "base_uri": "https://localhost:8080/"
        },
        "id": "_ChPFKS8gfOK",
        "outputId": "71a07bdb-3d03-4066-963b-3d046b73cf48"
      },
      "source": [
        "print(\"Multiple Linear Regression: \" + '%.4f'%MLr2)\n",
        "print(f\"Polynomial Regression ({Polydegree} degree): \" + '%.4f'%Polyr2)\n",
        "print(f\"Support Vector Regression (kernel {SVRkernel}): \" + '%.4f'%SVRr2)\n",
        "print(\"Decision Tree Regression: \" + '%.4f'%DTr2)\n",
        "print(f\"Random Forest Regression ({RFestimators} estimators): \" + '%.4f'%RFr2)"
      ],
      "execution_count": null,
      "outputs": [
        {
          "output_type": "stream",
          "text": [
            "Multiple Linear Regression: 0.9325\n",
            "Polynomial Regression (4 degree): 0.9458\n",
            "Support Vector Regression (kernel rbf): 0.9481\n",
            "Decision Tree Regression: 0.9226\n",
            "Random Forest Regression (10 estimators): 0.9616\n"
          ],
          "name": "stdout"
        }
      ]
    }
  ]
}