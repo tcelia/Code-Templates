{
  "nbformat": 4,
  "nbformat_minor": 0,
  "metadata": {
    "colab": {
      "name": "Data Preprocessing.ipynb",
      "provenance": [],
      "collapsed_sections": [],
      "authorship_tag": "ABX9TyMU1jTe7Zmdikp3XkhYvKs3",
      "include_colab_link": true
    },
    "kernelspec": {
      "display_name": "Python 3",
      "name": "python3"
    },
    "language_info": {
      "name": "python"
    }
  },
  "cells": [
    {
      "cell_type": "markdown",
      "metadata": {
        "id": "view-in-github",
        "colab_type": "text"
      },
      "source": [
        "<a href=\"https://colab.research.google.com/github/tcelia/Code-Templates/blob/main/Data_Preprocessing.ipynb\" target=\"_parent\"><img src=\"https://colab.research.google.com/assets/colab-badge.svg\" alt=\"Open In Colab\"/></a>"
      ]
    },
    {
      "cell_type": "code",
      "metadata": {
        "id": "LT_oiCg4jge2"
      },
      "source": [
        "import numpy as np\n",
        "import matplotlib.pyplot as plt\n",
        "import pandas as pd"
      ],
      "execution_count": null,
      "outputs": []
    },
    {
      "cell_type": "code",
      "metadata": {
        "colab": {
          "base_uri": "https://localhost:8080/",
          "height": 266
        },
        "id": "-1tYB7HakBey",
        "outputId": "99013a75-e773-46a8-da8c-77aade444ff9"
      },
      "source": [
        "data = pd.DataFrame({'Country':['USA', 'Canada', 'Italy', 'Germany', 'USA','England',None],\n",
        "        'Speak English?':['Yes', 'Yes', 'No', 'No','Yes','Yes', 'No'], 'Population':[328.2, 37.6, 60.4, 83.0, 328.2,None, 65.3]})\n",
        "data"
      ],
      "execution_count": null,
      "outputs": [
        {
          "output_type": "execute_result",
          "data": {
            "text/html": [
              "<div>\n",
              "<style scoped>\n",
              "    .dataframe tbody tr th:only-of-type {\n",
              "        vertical-align: middle;\n",
              "    }\n",
              "\n",
              "    .dataframe tbody tr th {\n",
              "        vertical-align: top;\n",
              "    }\n",
              "\n",
              "    .dataframe thead th {\n",
              "        text-align: right;\n",
              "    }\n",
              "</style>\n",
              "<table border=\"1\" class=\"dataframe\">\n",
              "  <thead>\n",
              "    <tr style=\"text-align: right;\">\n",
              "      <th></th>\n",
              "      <th>Country</th>\n",
              "      <th>Speak English?</th>\n",
              "      <th>Population</th>\n",
              "    </tr>\n",
              "  </thead>\n",
              "  <tbody>\n",
              "    <tr>\n",
              "      <th>0</th>\n",
              "      <td>USA</td>\n",
              "      <td>Yes</td>\n",
              "      <td>328.2</td>\n",
              "    </tr>\n",
              "    <tr>\n",
              "      <th>1</th>\n",
              "      <td>Canada</td>\n",
              "      <td>Yes</td>\n",
              "      <td>37.6</td>\n",
              "    </tr>\n",
              "    <tr>\n",
              "      <th>2</th>\n",
              "      <td>Italy</td>\n",
              "      <td>No</td>\n",
              "      <td>60.4</td>\n",
              "    </tr>\n",
              "    <tr>\n",
              "      <th>3</th>\n",
              "      <td>Germany</td>\n",
              "      <td>No</td>\n",
              "      <td>83.0</td>\n",
              "    </tr>\n",
              "    <tr>\n",
              "      <th>4</th>\n",
              "      <td>USA</td>\n",
              "      <td>Yes</td>\n",
              "      <td>328.2</td>\n",
              "    </tr>\n",
              "    <tr>\n",
              "      <th>5</th>\n",
              "      <td>England</td>\n",
              "      <td>Yes</td>\n",
              "      <td>NaN</td>\n",
              "    </tr>\n",
              "    <tr>\n",
              "      <th>6</th>\n",
              "      <td>None</td>\n",
              "      <td>No</td>\n",
              "      <td>65.3</td>\n",
              "    </tr>\n",
              "  </tbody>\n",
              "</table>\n",
              "</div>"
            ],
            "text/plain": [
              "   Country Speak English?  Population\n",
              "0      USA            Yes       328.2\n",
              "1   Canada            Yes        37.6\n",
              "2    Italy             No        60.4\n",
              "3  Germany             No        83.0\n",
              "4      USA            Yes       328.2\n",
              "5  England            Yes         NaN\n",
              "6     None             No        65.3"
            ]
          },
          "metadata": {
            "tags": []
          },
          "execution_count": 2
        }
      ]
    },
    {
      "cell_type": "code",
      "metadata": {
        "colab": {
          "base_uri": "https://localhost:8080/"
        },
        "id": "QpejEYEhdfsD",
        "outputId": "58c14956-d8d3-4a30-ede9-af3d91f42c83"
      },
      "source": [
        "#get generic info\n",
        "print(data.info())\n",
        "#number of rows\n",
        "print(len(data))\n",
        "#number of columns\n",
        "print(len(data.columns))\n",
        "#max of a column\n",
        "print(data['Population'].max())\n",
        "#min of a column\n",
        "print(data['Population'].min())"
      ],
      "execution_count": null,
      "outputs": [
        {
          "output_type": "stream",
          "text": [
            "<class 'pandas.core.frame.DataFrame'>\n",
            "RangeIndex: 7 entries, 0 to 6\n",
            "Data columns (total 3 columns):\n",
            " #   Column          Non-Null Count  Dtype  \n",
            "---  ------          --------------  -----  \n",
            " 0   Country         6 non-null      object \n",
            " 1   Speak English?  7 non-null      object \n",
            " 2   Population      6 non-null      float64\n",
            "dtypes: float64(1), object(2)\n",
            "memory usage: 296.0+ bytes\n",
            "None\n",
            "7\n",
            "3\n",
            "328.2\n",
            "37.6\n"
          ],
          "name": "stdout"
        }
      ]
    },
    {
      "cell_type": "code",
      "metadata": {
        "colab": {
          "base_uri": "https://localhost:8080/"
        },
        "id": "f7RdLD62SMfB",
        "outputId": "d72a059e-1a7f-4570-b25a-79f71d63d8f2"
      },
      "source": [
        "#loop through all columns\n",
        "data = pd.DataFrame({'Population':[328.2, 37.6, 60.4, 83.0, 328.2,None, 65.3],'Population1':[1328.2, 237.6, 360.4, 483.0, 5328.2,None, 65.3]})\n",
        "for x in data.columns:\n",
        "  print(\"Max of \"+ x +\" is \" + str(data[x].max()))"
      ],
      "execution_count": null,
      "outputs": [
        {
          "output_type": "stream",
          "text": [
            "Max of Population is 328.2\n",
            "Max of Population1 is 5328.2\n"
          ],
          "name": "stdout"
        }
      ]
    },
    {
      "cell_type": "code",
      "metadata": {
        "colab": {
          "base_uri": "https://localhost:8080/"
        },
        "id": "1MLV9vnDTURv",
        "outputId": "9c0eb12f-2982-43a1-f9ca-af5c69c3a606"
      },
      "source": [
        "#loop through data frame and print the max and min if column is not object\n",
        "data = pd.DataFrame({'Country':['USA', 'Canada', 'Italy', 'Germany', 'USA','England',None],\n",
        "        'Speak English?':['Yes', 'Yes', 'No', 'No','Yes','Yes', 'No'], 'Population':[328.2, 37.6, 60.4, 83.0, 328.2,None, 65.3],'GDP':[1100, 50, 12, 1.57, 1100,3, 79]})\n",
        "for x in data.columns:\n",
        "  if data[x].dtype != 'object':\n",
        "    print(\"Max \"+ x +\" is \" + str(data[x].max()))\n",
        "    print(\"Min \"+ x +\" is \" + str(data[x].min()))"
      ],
      "execution_count": null,
      "outputs": [
        {
          "output_type": "stream",
          "text": [
            "Max Population is 328.2\n",
            "Min Population is 37.6\n",
            "Max GDP is 1100.0\n",
            "Min GDP is 1.57\n"
          ],
          "name": "stdout"
        }
      ]
    },
    {
      "cell_type": "code",
      "metadata": {
        "colab": {
          "base_uri": "https://localhost:8080/",
          "height": 204
        },
        "id": "qhdJaz2C760W",
        "outputId": "81ed8c60-7446-4f52-97c6-e178c008d8c3"
      },
      "source": [
        "data = pd.DataFrame({'Country':['USA', 'Canada', 'Italy', 'Germany', 'USA','England',None],\n",
        "        'Speak English?':['Yes', 'Yes', 'No', 'No','Yes','Yes', 'No'], 'Population':[328.2, 37.6, 60.4, 83.0, 328.2,None, 65.3]})\n",
        "#Delete all rows with NaN anywhere\n",
        "data.dropna(inplace=True)\n",
        "data"
      ],
      "execution_count": null,
      "outputs": [
        {
          "output_type": "execute_result",
          "data": {
            "text/html": [
              "<div>\n",
              "<style scoped>\n",
              "    .dataframe tbody tr th:only-of-type {\n",
              "        vertical-align: middle;\n",
              "    }\n",
              "\n",
              "    .dataframe tbody tr th {\n",
              "        vertical-align: top;\n",
              "    }\n",
              "\n",
              "    .dataframe thead th {\n",
              "        text-align: right;\n",
              "    }\n",
              "</style>\n",
              "<table border=\"1\" class=\"dataframe\">\n",
              "  <thead>\n",
              "    <tr style=\"text-align: right;\">\n",
              "      <th></th>\n",
              "      <th>Country</th>\n",
              "      <th>Speak English?</th>\n",
              "      <th>Population</th>\n",
              "    </tr>\n",
              "  </thead>\n",
              "  <tbody>\n",
              "    <tr>\n",
              "      <th>0</th>\n",
              "      <td>USA</td>\n",
              "      <td>Yes</td>\n",
              "      <td>328.2</td>\n",
              "    </tr>\n",
              "    <tr>\n",
              "      <th>1</th>\n",
              "      <td>Canada</td>\n",
              "      <td>Yes</td>\n",
              "      <td>37.6</td>\n",
              "    </tr>\n",
              "    <tr>\n",
              "      <th>2</th>\n",
              "      <td>Italy</td>\n",
              "      <td>No</td>\n",
              "      <td>60.4</td>\n",
              "    </tr>\n",
              "    <tr>\n",
              "      <th>3</th>\n",
              "      <td>Germany</td>\n",
              "      <td>No</td>\n",
              "      <td>83.0</td>\n",
              "    </tr>\n",
              "    <tr>\n",
              "      <th>4</th>\n",
              "      <td>USA</td>\n",
              "      <td>Yes</td>\n",
              "      <td>328.2</td>\n",
              "    </tr>\n",
              "  </tbody>\n",
              "</table>\n",
              "</div>"
            ],
            "text/plain": [
              "   Country Speak English?  Population\n",
              "0      USA            Yes       328.2\n",
              "1   Canada            Yes        37.6\n",
              "2    Italy             No        60.4\n",
              "3  Germany             No        83.0\n",
              "4      USA            Yes       328.2"
            ]
          },
          "metadata": {
            "tags": []
          },
          "execution_count": 6
        }
      ]
    },
    {
      "cell_type": "code",
      "metadata": {
        "colab": {
          "base_uri": "https://localhost:8080/",
          "height": 204
        },
        "id": "mEriTTG98yr_",
        "outputId": "65f89206-c1b8-479e-8bdd-d5994e6f4fde"
      },
      "source": [
        "data = pd.DataFrame({'Country':['USA', 'Canada', 'Italy', 'Germany', 'USA','England',None],\n",
        "        'Speak English?':['Yes', 'Yes', 'No', 'No','Yes','Yes', 'No'], 'Population':[328.2, 37.6, 60.4, 83.0, 328.2,None, 65.3]})\n",
        "#Delete NaN rows in specific Columns by name\n",
        "data.dropna(subset=['Country', 'Population'],inplace=True)\n",
        "data"
      ],
      "execution_count": null,
      "outputs": [
        {
          "output_type": "execute_result",
          "data": {
            "text/html": [
              "<div>\n",
              "<style scoped>\n",
              "    .dataframe tbody tr th:only-of-type {\n",
              "        vertical-align: middle;\n",
              "    }\n",
              "\n",
              "    .dataframe tbody tr th {\n",
              "        vertical-align: top;\n",
              "    }\n",
              "\n",
              "    .dataframe thead th {\n",
              "        text-align: right;\n",
              "    }\n",
              "</style>\n",
              "<table border=\"1\" class=\"dataframe\">\n",
              "  <thead>\n",
              "    <tr style=\"text-align: right;\">\n",
              "      <th></th>\n",
              "      <th>Country</th>\n",
              "      <th>Speak English?</th>\n",
              "      <th>Population</th>\n",
              "    </tr>\n",
              "  </thead>\n",
              "  <tbody>\n",
              "    <tr>\n",
              "      <th>0</th>\n",
              "      <td>USA</td>\n",
              "      <td>Yes</td>\n",
              "      <td>328.2</td>\n",
              "    </tr>\n",
              "    <tr>\n",
              "      <th>1</th>\n",
              "      <td>Canada</td>\n",
              "      <td>Yes</td>\n",
              "      <td>37.6</td>\n",
              "    </tr>\n",
              "    <tr>\n",
              "      <th>2</th>\n",
              "      <td>Italy</td>\n",
              "      <td>No</td>\n",
              "      <td>60.4</td>\n",
              "    </tr>\n",
              "    <tr>\n",
              "      <th>3</th>\n",
              "      <td>Germany</td>\n",
              "      <td>No</td>\n",
              "      <td>83.0</td>\n",
              "    </tr>\n",
              "    <tr>\n",
              "      <th>4</th>\n",
              "      <td>USA</td>\n",
              "      <td>Yes</td>\n",
              "      <td>328.2</td>\n",
              "    </tr>\n",
              "  </tbody>\n",
              "</table>\n",
              "</div>"
            ],
            "text/plain": [
              "   Country Speak English?  Population\n",
              "0      USA            Yes       328.2\n",
              "1   Canada            Yes        37.6\n",
              "2    Italy             No        60.4\n",
              "3  Germany             No        83.0\n",
              "4      USA            Yes       328.2"
            ]
          },
          "metadata": {
            "tags": []
          },
          "execution_count": 7
        }
      ]
    },
    {
      "cell_type": "code",
      "metadata": {
        "colab": {
          "base_uri": "https://localhost:8080/",
          "height": 204
        },
        "id": "C973htkvC8iP",
        "outputId": "5d528a20-9088-49b8-fd53-3545ec94d6b9"
      },
      "source": [
        "data = pd.DataFrame({'Country':['USA', 'Canada', 'Italy', 'Germany', 'USA','England',None],\n",
        "        'Speak English?':['Yes', 'Yes', 'No', 'No','Yes','Yes', 'No'], 'Population':[328.2, 37.6, 60.4, 83.0, 328.2,None, 65.3]})\n",
        "#Delete NaN rows in specific Column index range\n",
        "data.dropna(subset=list(data.columns[0:3]),inplace=True)\n",
        "data"
      ],
      "execution_count": null,
      "outputs": [
        {
          "output_type": "execute_result",
          "data": {
            "text/html": [
              "<div>\n",
              "<style scoped>\n",
              "    .dataframe tbody tr th:only-of-type {\n",
              "        vertical-align: middle;\n",
              "    }\n",
              "\n",
              "    .dataframe tbody tr th {\n",
              "        vertical-align: top;\n",
              "    }\n",
              "\n",
              "    .dataframe thead th {\n",
              "        text-align: right;\n",
              "    }\n",
              "</style>\n",
              "<table border=\"1\" class=\"dataframe\">\n",
              "  <thead>\n",
              "    <tr style=\"text-align: right;\">\n",
              "      <th></th>\n",
              "      <th>Country</th>\n",
              "      <th>Speak English?</th>\n",
              "      <th>Population</th>\n",
              "    </tr>\n",
              "  </thead>\n",
              "  <tbody>\n",
              "    <tr>\n",
              "      <th>0</th>\n",
              "      <td>USA</td>\n",
              "      <td>Yes</td>\n",
              "      <td>328.2</td>\n",
              "    </tr>\n",
              "    <tr>\n",
              "      <th>1</th>\n",
              "      <td>Canada</td>\n",
              "      <td>Yes</td>\n",
              "      <td>37.6</td>\n",
              "    </tr>\n",
              "    <tr>\n",
              "      <th>2</th>\n",
              "      <td>Italy</td>\n",
              "      <td>No</td>\n",
              "      <td>60.4</td>\n",
              "    </tr>\n",
              "    <tr>\n",
              "      <th>3</th>\n",
              "      <td>Germany</td>\n",
              "      <td>No</td>\n",
              "      <td>83.0</td>\n",
              "    </tr>\n",
              "    <tr>\n",
              "      <th>4</th>\n",
              "      <td>USA</td>\n",
              "      <td>Yes</td>\n",
              "      <td>328.2</td>\n",
              "    </tr>\n",
              "  </tbody>\n",
              "</table>\n",
              "</div>"
            ],
            "text/plain": [
              "   Country Speak English?  Population\n",
              "0      USA            Yes       328.2\n",
              "1   Canada            Yes        37.6\n",
              "2    Italy             No        60.4\n",
              "3  Germany             No        83.0\n",
              "4      USA            Yes       328.2"
            ]
          },
          "metadata": {
            "tags": []
          },
          "execution_count": 8
        }
      ]
    },
    {
      "cell_type": "code",
      "metadata": {
        "colab": {
          "base_uri": "https://localhost:8080/",
          "height": 235
        },
        "id": "-qdMZTh4MDDc",
        "outputId": "17c293b7-7f96-4286-a706-c05b077f0155"
      },
      "source": [
        "data = pd.DataFrame({'Country':['USA', 'Canada', 'Italy', 'Germany', 'USA','England',None],\n",
        "        'Speak English?':['Yes', 'Yes', 'No', 'No','Yes','Yes', 'No'], 'Population':[328.2, 37.6, 60.4, 83.0, 328.2,None, 65.3]})\n",
        "#Delete NaN rows in specific Column index (single index)\n",
        "data.dropna(subset=list([data.columns[2]]),inplace=True)\n",
        "data"
      ],
      "execution_count": null,
      "outputs": [
        {
          "output_type": "execute_result",
          "data": {
            "text/html": [
              "<div>\n",
              "<style scoped>\n",
              "    .dataframe tbody tr th:only-of-type {\n",
              "        vertical-align: middle;\n",
              "    }\n",
              "\n",
              "    .dataframe tbody tr th {\n",
              "        vertical-align: top;\n",
              "    }\n",
              "\n",
              "    .dataframe thead th {\n",
              "        text-align: right;\n",
              "    }\n",
              "</style>\n",
              "<table border=\"1\" class=\"dataframe\">\n",
              "  <thead>\n",
              "    <tr style=\"text-align: right;\">\n",
              "      <th></th>\n",
              "      <th>Country</th>\n",
              "      <th>Speak English?</th>\n",
              "      <th>Population</th>\n",
              "    </tr>\n",
              "  </thead>\n",
              "  <tbody>\n",
              "    <tr>\n",
              "      <th>0</th>\n",
              "      <td>USA</td>\n",
              "      <td>Yes</td>\n",
              "      <td>328.2</td>\n",
              "    </tr>\n",
              "    <tr>\n",
              "      <th>1</th>\n",
              "      <td>Canada</td>\n",
              "      <td>Yes</td>\n",
              "      <td>37.6</td>\n",
              "    </tr>\n",
              "    <tr>\n",
              "      <th>2</th>\n",
              "      <td>Italy</td>\n",
              "      <td>No</td>\n",
              "      <td>60.4</td>\n",
              "    </tr>\n",
              "    <tr>\n",
              "      <th>3</th>\n",
              "      <td>Germany</td>\n",
              "      <td>No</td>\n",
              "      <td>83.0</td>\n",
              "    </tr>\n",
              "    <tr>\n",
              "      <th>4</th>\n",
              "      <td>USA</td>\n",
              "      <td>Yes</td>\n",
              "      <td>328.2</td>\n",
              "    </tr>\n",
              "    <tr>\n",
              "      <th>6</th>\n",
              "      <td>None</td>\n",
              "      <td>No</td>\n",
              "      <td>65.3</td>\n",
              "    </tr>\n",
              "  </tbody>\n",
              "</table>\n",
              "</div>"
            ],
            "text/plain": [
              "   Country Speak English?  Population\n",
              "0      USA            Yes       328.2\n",
              "1   Canada            Yes        37.6\n",
              "2    Italy             No        60.4\n",
              "3  Germany             No        83.0\n",
              "4      USA            Yes       328.2\n",
              "6     None             No        65.3"
            ]
          },
          "metadata": {
            "tags": []
          },
          "execution_count": 9
        }
      ]
    },
    {
      "cell_type": "code",
      "metadata": {
        "colab": {
          "base_uri": "https://localhost:8080/",
          "height": 266
        },
        "id": "smVjpcJl9N3A",
        "outputId": "fc8bc516-d5bb-47ff-a4c2-95f80356ffef"
      },
      "source": [
        "data = pd.DataFrame({'Country':['USA', 'Canada', 'Italy', 'Germany', 'USA','England',None],\n",
        "        'Speak English?':['Yes', 'Yes', 'No', 'No','Yes','Yes', 'No'], 'Population':[328.2, 37.6, 60.4, 83.0, 328.2,None, 65.3]})\n",
        "#Delete Columns if it has NaN \n",
        "data.dropna(axis=1,inplace=True)\n",
        "data"
      ],
      "execution_count": null,
      "outputs": [
        {
          "output_type": "execute_result",
          "data": {
            "text/html": [
              "<div>\n",
              "<style scoped>\n",
              "    .dataframe tbody tr th:only-of-type {\n",
              "        vertical-align: middle;\n",
              "    }\n",
              "\n",
              "    .dataframe tbody tr th {\n",
              "        vertical-align: top;\n",
              "    }\n",
              "\n",
              "    .dataframe thead th {\n",
              "        text-align: right;\n",
              "    }\n",
              "</style>\n",
              "<table border=\"1\" class=\"dataframe\">\n",
              "  <thead>\n",
              "    <tr style=\"text-align: right;\">\n",
              "      <th></th>\n",
              "      <th>Speak English?</th>\n",
              "    </tr>\n",
              "  </thead>\n",
              "  <tbody>\n",
              "    <tr>\n",
              "      <th>0</th>\n",
              "      <td>Yes</td>\n",
              "    </tr>\n",
              "    <tr>\n",
              "      <th>1</th>\n",
              "      <td>Yes</td>\n",
              "    </tr>\n",
              "    <tr>\n",
              "      <th>2</th>\n",
              "      <td>No</td>\n",
              "    </tr>\n",
              "    <tr>\n",
              "      <th>3</th>\n",
              "      <td>No</td>\n",
              "    </tr>\n",
              "    <tr>\n",
              "      <th>4</th>\n",
              "      <td>Yes</td>\n",
              "    </tr>\n",
              "    <tr>\n",
              "      <th>5</th>\n",
              "      <td>Yes</td>\n",
              "    </tr>\n",
              "    <tr>\n",
              "      <th>6</th>\n",
              "      <td>No</td>\n",
              "    </tr>\n",
              "  </tbody>\n",
              "</table>\n",
              "</div>"
            ],
            "text/plain": [
              "  Speak English?\n",
              "0            Yes\n",
              "1            Yes\n",
              "2             No\n",
              "3             No\n",
              "4            Yes\n",
              "5            Yes\n",
              "6             No"
            ]
          },
          "metadata": {
            "tags": []
          },
          "execution_count": 10
        }
      ]
    },
    {
      "cell_type": "code",
      "metadata": {
        "colab": {
          "base_uri": "https://localhost:8080/"
        },
        "id": "XrG2v05jOsol",
        "outputId": "f7103f9b-8159-46c4-c04d-eefbf8282463"
      },
      "source": [
        "data = pd.DataFrame({'Country':['USA', 'Canada', 'Italy', 'Germany', 'USA','England',None],\n",
        "        'Speak English?':[None, 'Yes', 'No', 'No','Yes','Yes', 'No'], 'Population':[328.2, 37.6, 60.4, 83.0, 328.2,None, 65.3]})\n",
        "#Count rows with any blanks, all columns\n",
        "data.isnull().any(axis=1).sum() "
      ],
      "execution_count": null,
      "outputs": [
        {
          "output_type": "execute_result",
          "data": {
            "text/plain": [
              "3"
            ]
          },
          "metadata": {
            "tags": []
          },
          "execution_count": 11
        }
      ]
    },
    {
      "cell_type": "code",
      "metadata": {
        "colab": {
          "base_uri": "https://localhost:8080/"
        },
        "id": "4eae6aOTPSgY",
        "outputId": "6f1b362d-18bf-4331-d262-a3ad1ecab51e"
      },
      "source": [
        "data = pd.DataFrame({'Country':['USA', 'Canada', 'Italy', 'Germany', 'USA','England',None],\n",
        "        'Speak English?':[None, 'Yes', 'No', 'No','Yes','Yes', 'No'], 'Population':[328.2, 37.6, 60.4, 83.0, 328.2,None, 65.3]})\n",
        "#Count rows with any blanks, by columns\n",
        "data.isnull().sum()"
      ],
      "execution_count": null,
      "outputs": [
        {
          "output_type": "execute_result",
          "data": {
            "text/plain": [
              "Country           1\n",
              "Speak English?    1\n",
              "Population        1\n",
              "dtype: int64"
            ]
          },
          "metadata": {
            "tags": []
          },
          "execution_count": 12
        }
      ]
    },
    {
      "cell_type": "code",
      "metadata": {
        "colab": {
          "base_uri": "https://localhost:8080/",
          "height": 266
        },
        "id": "gYp36H5gYAOd",
        "outputId": "9be38047-1dd8-42fd-df8e-d292332c765b"
      },
      "source": [
        "#update Nan with mean directly in data frame\n",
        "data = pd.DataFrame({'Country':['USA', 'Canada', 'Italy', 'Germany', 'USA','England',None],\n",
        "        'Speak English?':[None, 'Yes', 'No', 'No','Yes','Yes', 'No'], 'Population':[328.2, 37.6, 60.4, 83.0, 328.2,np.NaN, 65.3]})\n",
        "data['Population'].fillna(value=data['Population'].mean(), inplace=True)\n",
        "data"
      ],
      "execution_count": null,
      "outputs": [
        {
          "output_type": "execute_result",
          "data": {
            "text/html": [
              "<div>\n",
              "<style scoped>\n",
              "    .dataframe tbody tr th:only-of-type {\n",
              "        vertical-align: middle;\n",
              "    }\n",
              "\n",
              "    .dataframe tbody tr th {\n",
              "        vertical-align: top;\n",
              "    }\n",
              "\n",
              "    .dataframe thead th {\n",
              "        text-align: right;\n",
              "    }\n",
              "</style>\n",
              "<table border=\"1\" class=\"dataframe\">\n",
              "  <thead>\n",
              "    <tr style=\"text-align: right;\">\n",
              "      <th></th>\n",
              "      <th>Country</th>\n",
              "      <th>Speak English?</th>\n",
              "      <th>Population</th>\n",
              "    </tr>\n",
              "  </thead>\n",
              "  <tbody>\n",
              "    <tr>\n",
              "      <th>0</th>\n",
              "      <td>USA</td>\n",
              "      <td>None</td>\n",
              "      <td>328.20</td>\n",
              "    </tr>\n",
              "    <tr>\n",
              "      <th>1</th>\n",
              "      <td>Canada</td>\n",
              "      <td>Yes</td>\n",
              "      <td>37.60</td>\n",
              "    </tr>\n",
              "    <tr>\n",
              "      <th>2</th>\n",
              "      <td>Italy</td>\n",
              "      <td>No</td>\n",
              "      <td>60.40</td>\n",
              "    </tr>\n",
              "    <tr>\n",
              "      <th>3</th>\n",
              "      <td>Germany</td>\n",
              "      <td>No</td>\n",
              "      <td>83.00</td>\n",
              "    </tr>\n",
              "    <tr>\n",
              "      <th>4</th>\n",
              "      <td>USA</td>\n",
              "      <td>Yes</td>\n",
              "      <td>328.20</td>\n",
              "    </tr>\n",
              "    <tr>\n",
              "      <th>5</th>\n",
              "      <td>England</td>\n",
              "      <td>Yes</td>\n",
              "      <td>150.45</td>\n",
              "    </tr>\n",
              "    <tr>\n",
              "      <th>6</th>\n",
              "      <td>None</td>\n",
              "      <td>No</td>\n",
              "      <td>65.30</td>\n",
              "    </tr>\n",
              "  </tbody>\n",
              "</table>\n",
              "</div>"
            ],
            "text/plain": [
              "   Country Speak English?  Population\n",
              "0      USA           None      328.20\n",
              "1   Canada            Yes       37.60\n",
              "2    Italy             No       60.40\n",
              "3  Germany             No       83.00\n",
              "4      USA            Yes      328.20\n",
              "5  England            Yes      150.45\n",
              "6     None             No       65.30"
            ]
          },
          "metadata": {
            "tags": []
          },
          "execution_count": 13
        }
      ]
    },
    {
      "cell_type": "code",
      "metadata": {
        "colab": {
          "base_uri": "https://localhost:8080/"
        },
        "id": "zhH4HWdtSqo1",
        "outputId": "ad58dbda-bcbb-4f80-d87e-088cd0563186"
      },
      "source": [
        "#update Nan with mean, converting to array\n",
        "from sklearn.impute import SimpleImputer\n",
        "#create array from dataframe by adding 'values' to the end\n",
        "data = pd.DataFrame({'Country':['USA', 'Canada', 'Italy', 'Germany', 'USA','England',None],\n",
        "        'Speak English?':[None, 'Yes', 'No', 'No','Yes','Yes', 'No'], 'Population':[328.2, 37.6, 60.4, 83.0, 328.2,np.NaN, 65.3]}).values\n",
        "#create simple imputer with parameters\n",
        "imputer = SimpleImputer(missing_values=np.nan, strategy ='mean')\n",
        "#update\n",
        "data[:,2:3]= imputer.fit_transform(data[:,2:3])\n",
        "data"
      ],
      "execution_count": null,
      "outputs": [
        {
          "output_type": "execute_result",
          "data": {
            "text/plain": [
              "array([['USA', None, 328.2],\n",
              "       ['Canada', 'Yes', 37.6],\n",
              "       ['Italy', 'No', 60.4],\n",
              "       ['Germany', 'No', 83.0],\n",
              "       ['USA', 'Yes', 328.2],\n",
              "       ['England', 'Yes', 150.45],\n",
              "       [None, 'No', 65.3]], dtype=object)"
            ]
          },
          "metadata": {
            "tags": []
          },
          "execution_count": 14
        }
      ]
    },
    {
      "cell_type": "code",
      "metadata": {
        "colab": {
          "base_uri": "https://localhost:8080/"
        },
        "id": "kFPzC-yXXwiK",
        "outputId": "c0ee86df-7161-4e73-c2f6-0e2b34598bf9"
      },
      "source": [
        "#convert strings in numeric column as NaN\n",
        "data = pd.DataFrame({'Country':['USA', 'Canada', 'Italy', 'Germany', 'USA','England',None],\n",
        "        'Speak English?':['Yes', 'Yes', 'No', 'No','Yes','Yes', 'No'], 'Population':[328.2, 37.6, 60.4, 83.0, 328.2,'a', 65.3]})\n",
        "x='Population'\n",
        "print(data[x].dtype)\n",
        "print(\"Non numeric entries in column \"+x+\": \" + str(sum(pd.to_numeric(data[x],errors='coerce').isna())))\n",
        "data[x]=pd.to_numeric(data[x], errors='coerce')\n",
        "#fill in specifc column by that columns mean\n",
        "data[x].fillna(data[x].mean(), inplace=True)\n",
        "print(data)"
      ],
      "execution_count": null,
      "outputs": [
        {
          "output_type": "stream",
          "text": [
            "object\n",
            "Non numeric entries in column Population: 1\n",
            "   Country Speak English?  Population\n",
            "0      USA            Yes      328.20\n",
            "1   Canada            Yes       37.60\n",
            "2    Italy             No       60.40\n",
            "3  Germany             No       83.00\n",
            "4      USA            Yes      328.20\n",
            "5  England            Yes      150.45\n",
            "6     None             No       65.30\n"
          ],
          "name": "stdout"
        }
      ]
    },
    {
      "cell_type": "code",
      "metadata": {
        "colab": {
          "base_uri": "https://localhost:8080/"
        },
        "id": "89cExEfId4rf",
        "outputId": "790f9582-9780-43c4-ad3b-23afb9891964"
      },
      "source": [
        "#convert strings in numeric column as NaN\n",
        "data = pd.DataFrame({'Country':['USA', 'Canada', 'Italy', 'Germany', 'USA','England',None],\n",
        "        'Speak English?':[None, 'Yes', 'No', 'No','Yes','Yes', 'No'], 'Population':[328.2, 37.6, 60.4, 83.0, 328.2,None, 65.3], 'GDP':[1100, 50, None, 1.57, 1100,3, 79]})\n",
        "#fill all blanks with columns mean\n",
        "data.fillna(data.mean(), inplace=True)\n",
        "print(data)"
      ],
      "execution_count": null,
      "outputs": [
        {
          "output_type": "stream",
          "text": [
            "   Country Speak English?  Population          GDP\n",
            "0      USA           None      328.20  1100.000000\n",
            "1   Canada            Yes       37.60    50.000000\n",
            "2    Italy             No       60.40   388.928333\n",
            "3  Germany             No       83.00     1.570000\n",
            "4      USA            Yes      328.20  1100.000000\n",
            "5  England            Yes      150.45     3.000000\n",
            "6     None             No       65.30    79.000000\n"
          ],
          "name": "stdout"
        }
      ]
    },
    {
      "cell_type": "code",
      "metadata": {
        "id": "OgMnKkAl78i3",
        "colab": {
          "base_uri": "https://localhost:8080/",
          "height": 266
        },
        "outputId": "50099862-ab2a-447b-faa2-2860e990771d"
      },
      "source": [
        "#One Hot Encode Country\n",
        "from sklearn.preprocessing import OneHotEncoder\n",
        "ohe=OneHotEncoder(sparse=False)\n",
        "data = pd.DataFrame({'Country':['USA', 'Canada', 'Italy', 'Germany', 'USA','England','Spain'],\n",
        "        'Speak English?':['Yes', 'Yes', 'No', 'No','Yes','Yes', 'No'], 'Population':[328.2, 37.6, 60.4, 83.0, 328.2,None, 65.3]})\n",
        "a=pd.DataFrame(ohe.fit_transform(data[['Country']]))\n",
        "data=data.join(a)\n",
        "#dont forget to drop country!\n",
        "data.drop(['Country'], axis=1, inplace=True)"
      ],
      "execution_count": null,
      "outputs": [
        {
          "output_type": "execute_result",
          "data": {
            "text/html": [
              "<div>\n",
              "<style scoped>\n",
              "    .dataframe tbody tr th:only-of-type {\n",
              "        vertical-align: middle;\n",
              "    }\n",
              "\n",
              "    .dataframe tbody tr th {\n",
              "        vertical-align: top;\n",
              "    }\n",
              "\n",
              "    .dataframe thead th {\n",
              "        text-align: right;\n",
              "    }\n",
              "</style>\n",
              "<table border=\"1\" class=\"dataframe\">\n",
              "  <thead>\n",
              "    <tr style=\"text-align: right;\">\n",
              "      <th></th>\n",
              "      <th>Speak English?</th>\n",
              "      <th>Population</th>\n",
              "      <th>0</th>\n",
              "      <th>1</th>\n",
              "      <th>2</th>\n",
              "      <th>3</th>\n",
              "      <th>4</th>\n",
              "      <th>5</th>\n",
              "    </tr>\n",
              "  </thead>\n",
              "  <tbody>\n",
              "    <tr>\n",
              "      <th>0</th>\n",
              "      <td>Yes</td>\n",
              "      <td>328.2</td>\n",
              "      <td>0.0</td>\n",
              "      <td>0.0</td>\n",
              "      <td>0.0</td>\n",
              "      <td>0.0</td>\n",
              "      <td>0.0</td>\n",
              "      <td>1.0</td>\n",
              "    </tr>\n",
              "    <tr>\n",
              "      <th>1</th>\n",
              "      <td>Yes</td>\n",
              "      <td>37.6</td>\n",
              "      <td>1.0</td>\n",
              "      <td>0.0</td>\n",
              "      <td>0.0</td>\n",
              "      <td>0.0</td>\n",
              "      <td>0.0</td>\n",
              "      <td>0.0</td>\n",
              "    </tr>\n",
              "    <tr>\n",
              "      <th>2</th>\n",
              "      <td>No</td>\n",
              "      <td>60.4</td>\n",
              "      <td>0.0</td>\n",
              "      <td>0.0</td>\n",
              "      <td>0.0</td>\n",
              "      <td>1.0</td>\n",
              "      <td>0.0</td>\n",
              "      <td>0.0</td>\n",
              "    </tr>\n",
              "    <tr>\n",
              "      <th>3</th>\n",
              "      <td>No</td>\n",
              "      <td>83.0</td>\n",
              "      <td>0.0</td>\n",
              "      <td>0.0</td>\n",
              "      <td>1.0</td>\n",
              "      <td>0.0</td>\n",
              "      <td>0.0</td>\n",
              "      <td>0.0</td>\n",
              "    </tr>\n",
              "    <tr>\n",
              "      <th>4</th>\n",
              "      <td>Yes</td>\n",
              "      <td>328.2</td>\n",
              "      <td>0.0</td>\n",
              "      <td>0.0</td>\n",
              "      <td>0.0</td>\n",
              "      <td>0.0</td>\n",
              "      <td>0.0</td>\n",
              "      <td>1.0</td>\n",
              "    </tr>\n",
              "    <tr>\n",
              "      <th>5</th>\n",
              "      <td>Yes</td>\n",
              "      <td>NaN</td>\n",
              "      <td>0.0</td>\n",
              "      <td>1.0</td>\n",
              "      <td>0.0</td>\n",
              "      <td>0.0</td>\n",
              "      <td>0.0</td>\n",
              "      <td>0.0</td>\n",
              "    </tr>\n",
              "    <tr>\n",
              "      <th>6</th>\n",
              "      <td>No</td>\n",
              "      <td>65.3</td>\n",
              "      <td>0.0</td>\n",
              "      <td>0.0</td>\n",
              "      <td>0.0</td>\n",
              "      <td>0.0</td>\n",
              "      <td>1.0</td>\n",
              "      <td>0.0</td>\n",
              "    </tr>\n",
              "  </tbody>\n",
              "</table>\n",
              "</div>"
            ],
            "text/plain": [
              "  Speak English?  Population    0    1    2    3    4    5\n",
              "0            Yes       328.2  0.0  0.0  0.0  0.0  0.0  1.0\n",
              "1            Yes        37.6  1.0  0.0  0.0  0.0  0.0  0.0\n",
              "2             No        60.4  0.0  0.0  0.0  1.0  0.0  0.0\n",
              "3             No        83.0  0.0  0.0  1.0  0.0  0.0  0.0\n",
              "4            Yes       328.2  0.0  0.0  0.0  0.0  0.0  1.0\n",
              "5            Yes         NaN  0.0  1.0  0.0  0.0  0.0  0.0\n",
              "6             No        65.3  0.0  0.0  0.0  0.0  1.0  0.0"
            ]
          },
          "metadata": {
            "tags": []
          },
          "execution_count": 17
        }
      ]
    },
    {
      "cell_type": "code",
      "metadata": {
        "colab": {
          "base_uri": "https://localhost:8080/",
          "height": 266
        },
        "id": "lbM8xPl8mWFw",
        "outputId": "a6a07b7f-eea3-4aff-e237-b7b27ee6c113"
      },
      "source": [
        "#one hot encode alternate\n",
        "data = pd.DataFrame({'Country':['USA', 'Canada', 'Italy', 'Germany', 'USA','England','Spain'],\n",
        "        'Speak English?':['Yes', 'Yes', 'No', 'No','Yes','Yes', 'No'], 'Population':[328.2, 37.6, 60.4, 83.0, 328.2,None, 65.3]})\n",
        "a=pd.get_dummies(data['Country'], prefix='Country')\n",
        "data=pd.concat([a,data], axis=1)\n",
        "#dont forget to drop Country!\n",
        "data.drop(['Country'], axis=1, inplace=True)"
      ],
      "execution_count": null,
      "outputs": [
        {
          "output_type": "execute_result",
          "data": {
            "text/html": [
              "<div>\n",
              "<style scoped>\n",
              "    .dataframe tbody tr th:only-of-type {\n",
              "        vertical-align: middle;\n",
              "    }\n",
              "\n",
              "    .dataframe tbody tr th {\n",
              "        vertical-align: top;\n",
              "    }\n",
              "\n",
              "    .dataframe thead th {\n",
              "        text-align: right;\n",
              "    }\n",
              "</style>\n",
              "<table border=\"1\" class=\"dataframe\">\n",
              "  <thead>\n",
              "    <tr style=\"text-align: right;\">\n",
              "      <th></th>\n",
              "      <th>Speak English?</th>\n",
              "      <th>Population</th>\n",
              "      <th>Country_Canada</th>\n",
              "      <th>Country_England</th>\n",
              "      <th>Country_Germany</th>\n",
              "      <th>Country_Italy</th>\n",
              "      <th>Country_Spain</th>\n",
              "      <th>Country_USA</th>\n",
              "    </tr>\n",
              "  </thead>\n",
              "  <tbody>\n",
              "    <tr>\n",
              "      <th>0</th>\n",
              "      <td>Yes</td>\n",
              "      <td>328.2</td>\n",
              "      <td>0</td>\n",
              "      <td>0</td>\n",
              "      <td>0</td>\n",
              "      <td>0</td>\n",
              "      <td>0</td>\n",
              "      <td>1</td>\n",
              "    </tr>\n",
              "    <tr>\n",
              "      <th>1</th>\n",
              "      <td>Yes</td>\n",
              "      <td>37.6</td>\n",
              "      <td>1</td>\n",
              "      <td>0</td>\n",
              "      <td>0</td>\n",
              "      <td>0</td>\n",
              "      <td>0</td>\n",
              "      <td>0</td>\n",
              "    </tr>\n",
              "    <tr>\n",
              "      <th>2</th>\n",
              "      <td>No</td>\n",
              "      <td>60.4</td>\n",
              "      <td>0</td>\n",
              "      <td>0</td>\n",
              "      <td>0</td>\n",
              "      <td>1</td>\n",
              "      <td>0</td>\n",
              "      <td>0</td>\n",
              "    </tr>\n",
              "    <tr>\n",
              "      <th>3</th>\n",
              "      <td>No</td>\n",
              "      <td>83.0</td>\n",
              "      <td>0</td>\n",
              "      <td>0</td>\n",
              "      <td>1</td>\n",
              "      <td>0</td>\n",
              "      <td>0</td>\n",
              "      <td>0</td>\n",
              "    </tr>\n",
              "    <tr>\n",
              "      <th>4</th>\n",
              "      <td>Yes</td>\n",
              "      <td>328.2</td>\n",
              "      <td>0</td>\n",
              "      <td>0</td>\n",
              "      <td>0</td>\n",
              "      <td>0</td>\n",
              "      <td>0</td>\n",
              "      <td>1</td>\n",
              "    </tr>\n",
              "    <tr>\n",
              "      <th>5</th>\n",
              "      <td>Yes</td>\n",
              "      <td>NaN</td>\n",
              "      <td>0</td>\n",
              "      <td>1</td>\n",
              "      <td>0</td>\n",
              "      <td>0</td>\n",
              "      <td>0</td>\n",
              "      <td>0</td>\n",
              "    </tr>\n",
              "    <tr>\n",
              "      <th>6</th>\n",
              "      <td>No</td>\n",
              "      <td>65.3</td>\n",
              "      <td>0</td>\n",
              "      <td>0</td>\n",
              "      <td>0</td>\n",
              "      <td>0</td>\n",
              "      <td>1</td>\n",
              "      <td>0</td>\n",
              "    </tr>\n",
              "  </tbody>\n",
              "</table>\n",
              "</div>"
            ],
            "text/plain": [
              "  Speak English?  Population  ...  Country_Spain  Country_USA\n",
              "0            Yes       328.2  ...              0            1\n",
              "1            Yes        37.6  ...              0            0\n",
              "2             No        60.4  ...              0            0\n",
              "3             No        83.0  ...              0            0\n",
              "4            Yes       328.2  ...              0            1\n",
              "5            Yes         NaN  ...              0            0\n",
              "6             No        65.3  ...              1            0\n",
              "\n",
              "[7 rows x 8 columns]"
            ]
          },
          "metadata": {
            "tags": []
          },
          "execution_count": 18
        }
      ]
    },
    {
      "cell_type": "code",
      "metadata": {
        "id": "BQTo18BO8CpI",
        "colab": {
          "base_uri": "https://localhost:8080/",
          "height": 266
        },
        "outputId": "4605e0c0-1947-4e25-93ae-2461c2384f0f"
      },
      "source": [
        "#label encode english\n",
        "data = pd.DataFrame({'Country':['USA', 'Canada', 'Italy', 'Germany', 'USA','England',None],\n",
        "        'Speak English?':['Yes', 'Yes', 'No', 'No','Yes','Yes', 'No'], 'Population':[328.2, 37.6, 60.4, 83.0, 328.2,None, 65.3]})\n",
        "data[\"Speak English?\"] = data[\"Speak English?\"].astype('category')\n",
        "data[\"Speak English?\"] = data[\"Speak English?\"].cat.codes\n",
        "data"
      ],
      "execution_count": null,
      "outputs": [
        {
          "output_type": "execute_result",
          "data": {
            "text/html": [
              "<div>\n",
              "<style scoped>\n",
              "    .dataframe tbody tr th:only-of-type {\n",
              "        vertical-align: middle;\n",
              "    }\n",
              "\n",
              "    .dataframe tbody tr th {\n",
              "        vertical-align: top;\n",
              "    }\n",
              "\n",
              "    .dataframe thead th {\n",
              "        text-align: right;\n",
              "    }\n",
              "</style>\n",
              "<table border=\"1\" class=\"dataframe\">\n",
              "  <thead>\n",
              "    <tr style=\"text-align: right;\">\n",
              "      <th></th>\n",
              "      <th>Country</th>\n",
              "      <th>Speak English?</th>\n",
              "      <th>Population</th>\n",
              "    </tr>\n",
              "  </thead>\n",
              "  <tbody>\n",
              "    <tr>\n",
              "      <th>0</th>\n",
              "      <td>USA</td>\n",
              "      <td>1</td>\n",
              "      <td>328.2</td>\n",
              "    </tr>\n",
              "    <tr>\n",
              "      <th>1</th>\n",
              "      <td>Canada</td>\n",
              "      <td>1</td>\n",
              "      <td>37.6</td>\n",
              "    </tr>\n",
              "    <tr>\n",
              "      <th>2</th>\n",
              "      <td>Italy</td>\n",
              "      <td>0</td>\n",
              "      <td>60.4</td>\n",
              "    </tr>\n",
              "    <tr>\n",
              "      <th>3</th>\n",
              "      <td>Germany</td>\n",
              "      <td>0</td>\n",
              "      <td>83.0</td>\n",
              "    </tr>\n",
              "    <tr>\n",
              "      <th>4</th>\n",
              "      <td>USA</td>\n",
              "      <td>1</td>\n",
              "      <td>328.2</td>\n",
              "    </tr>\n",
              "    <tr>\n",
              "      <th>5</th>\n",
              "      <td>England</td>\n",
              "      <td>1</td>\n",
              "      <td>NaN</td>\n",
              "    </tr>\n",
              "    <tr>\n",
              "      <th>6</th>\n",
              "      <td>None</td>\n",
              "      <td>0</td>\n",
              "      <td>65.3</td>\n",
              "    </tr>\n",
              "  </tbody>\n",
              "</table>\n",
              "</div>"
            ],
            "text/plain": [
              "   Country  Speak English?  Population\n",
              "0      USA               1       328.2\n",
              "1   Canada               1        37.6\n",
              "2    Italy               0        60.4\n",
              "3  Germany               0        83.0\n",
              "4      USA               1       328.2\n",
              "5  England               1         NaN\n",
              "6     None               0        65.3"
            ]
          },
          "metadata": {
            "tags": []
          },
          "execution_count": 19
        }
      ]
    },
    {
      "cell_type": "code",
      "metadata": {
        "colab": {
          "base_uri": "https://localhost:8080/",
          "height": 266
        },
        "id": "riWYfpCKjw21",
        "outputId": "3a92c001-3f28-46b8-8e44-bfeb468c56dd"
      },
      "source": [
        "#label encode english with sklearn\n",
        "from sklearn.preprocessing import LabelEncoder\n",
        "le=LabelEncoder()\n",
        "data = pd.DataFrame({'Country':['USA', 'Canada', 'Italy', 'Germany', 'USA','England',None],\n",
        "        'Speak English?':['Yes', 'Yes', 'No', 'No','Yes','Yes', 'No'], 'Population':[328.2, 37.6, 60.4, 83.0, 328.2,None, 65.3]})\n",
        "data['Speak English?']=le.fit_transform(data['Speak English?'])\n",
        "data"
      ],
      "execution_count": null,
      "outputs": [
        {
          "output_type": "execute_result",
          "data": {
            "text/html": [
              "<div>\n",
              "<style scoped>\n",
              "    .dataframe tbody tr th:only-of-type {\n",
              "        vertical-align: middle;\n",
              "    }\n",
              "\n",
              "    .dataframe tbody tr th {\n",
              "        vertical-align: top;\n",
              "    }\n",
              "\n",
              "    .dataframe thead th {\n",
              "        text-align: right;\n",
              "    }\n",
              "</style>\n",
              "<table border=\"1\" class=\"dataframe\">\n",
              "  <thead>\n",
              "    <tr style=\"text-align: right;\">\n",
              "      <th></th>\n",
              "      <th>Country</th>\n",
              "      <th>Speak English?</th>\n",
              "      <th>Population</th>\n",
              "    </tr>\n",
              "  </thead>\n",
              "  <tbody>\n",
              "    <tr>\n",
              "      <th>0</th>\n",
              "      <td>USA</td>\n",
              "      <td>1</td>\n",
              "      <td>328.2</td>\n",
              "    </tr>\n",
              "    <tr>\n",
              "      <th>1</th>\n",
              "      <td>Canada</td>\n",
              "      <td>1</td>\n",
              "      <td>37.6</td>\n",
              "    </tr>\n",
              "    <tr>\n",
              "      <th>2</th>\n",
              "      <td>Italy</td>\n",
              "      <td>0</td>\n",
              "      <td>60.4</td>\n",
              "    </tr>\n",
              "    <tr>\n",
              "      <th>3</th>\n",
              "      <td>Germany</td>\n",
              "      <td>0</td>\n",
              "      <td>83.0</td>\n",
              "    </tr>\n",
              "    <tr>\n",
              "      <th>4</th>\n",
              "      <td>USA</td>\n",
              "      <td>1</td>\n",
              "      <td>328.2</td>\n",
              "    </tr>\n",
              "    <tr>\n",
              "      <th>5</th>\n",
              "      <td>England</td>\n",
              "      <td>1</td>\n",
              "      <td>NaN</td>\n",
              "    </tr>\n",
              "    <tr>\n",
              "      <th>6</th>\n",
              "      <td>None</td>\n",
              "      <td>0</td>\n",
              "      <td>65.3</td>\n",
              "    </tr>\n",
              "  </tbody>\n",
              "</table>\n",
              "</div>"
            ],
            "text/plain": [
              "   Country  Speak English?  Population\n",
              "0      USA               1       328.2\n",
              "1   Canada               1        37.6\n",
              "2    Italy               0        60.4\n",
              "3  Germany               0        83.0\n",
              "4      USA               1       328.2\n",
              "5  England               1         NaN\n",
              "6     None               0        65.3"
            ]
          },
          "metadata": {
            "tags": []
          },
          "execution_count": 20
        }
      ]
    },
    {
      "cell_type": "code",
      "metadata": {
        "colab": {
          "base_uri": "https://localhost:8080/"
        },
        "id": "yPa85uVqneJS",
        "outputId": "338bd971-4add-4338-e841-3db74d6a4326"
      },
      "source": [
        "#get unique values\n",
        "data = pd.DataFrame({'Country':['USA', 'Canada', 'Italy', 'Germany', 'USA','England',None],\n",
        "        'Speak English?':['Yes', 'Yes', 'No', 'No','Yes','Yes', 'No'], 'Population':[328.2, 37.6, 60.4, 83.0, 328.2,None, 65.3]})\n",
        "#list of unqie values\n",
        "print(pd.unique(data['Country']))\n",
        "#number of unique values\n",
        "print(\"Count of unique values: \" + str(len(pd.unique(data['Country']))))"
      ],
      "execution_count": null,
      "outputs": [
        {
          "output_type": "stream",
          "text": [
            "['USA' 'Canada' 'Italy' 'Germany' 'England' None]\n",
            "Count of unique values: 6\n"
          ],
          "name": "stdout"
        }
      ]
    }
  ]
}